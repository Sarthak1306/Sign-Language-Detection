{
 "cells": [
  {
   "cell_type": "code",
   "execution_count": 1,
   "id": "1ac62e15-3650-4b0b-bd4e-2c2d0770cb88",
   "metadata": {},
   "outputs": [
    {
     "name": "stdout",
     "output_type": "stream",
     "text": [
      "hello\n"
     ]
    }
   ],
   "source": [
    "print('hello')\n"
   ]
  },
  {
   "cell_type": "code",
   "execution_count": 2,
   "id": "9037364c-5b6b-4395-902e-e0a5678e3403",
   "metadata": {},
   "outputs": [
    {
     "name": "stdout",
     "output_type": "stream",
     "text": [
      "Requirement already satisfied: mediapipe in c:\\users\\sahil bansal\\appdata\\local\\programs\\python\\python39\\lib\\site-packages (0.8.9.1)\n",
      "Requirement already satisfied: matplotlib in c:\\users\\sahil bansal\\appdata\\local\\programs\\python\\python39\\lib\\site-packages (from mediapipe) (3.5.1)\n",
      "Requirement already satisfied: attrs>=19.1.0 in c:\\users\\sahil bansal\\appdata\\local\\programs\\python\\python39\\lib\\site-packages (from mediapipe) (21.4.0)\n",
      "Requirement already satisfied: protobuf>=3.11.4 in c:\\users\\sahil bansal\\appdata\\local\\programs\\python\\python39\\lib\\site-packages (from mediapipe) (3.19.4)\n",
      "Requirement already satisfied: numpy in c:\\users\\sahil bansal\\appdata\\local\\programs\\python\\python39\\lib\\site-packages (from mediapipe) (1.22.3)\n",
      "Requirement already satisfied: absl-py in c:\\users\\sahil bansal\\appdata\\local\\programs\\python\\python39\\lib\\site-packages (from mediapipe) (1.0.0)\n",
      "Requirement already satisfied: opencv-contrib-python in c:\\users\\sahil bansal\\appdata\\local\\programs\\python\\python39\\lib\\site-packages (from mediapipe) (4.5.5.64)\n",
      "Requirement already satisfied: six in c:\\users\\sahil bansal\\appdata\\roaming\\python\\python39\\site-packages (from absl-py->mediapipe) (1.16.0)Note: you may need to restart the kernel to use updated packages.\n",
      "\n",
      "Requirement already satisfied: pyparsing>=2.2.1 in c:\\users\\sahil bansal\\appdata\\local\\programs\\python\\python39\\lib\\site-packages (from matplotlib->mediapipe) (3.0.7)\n",
      "Requirement already satisfied: python-dateutil>=2.7 in c:\\users\\sahil bansal\\appdata\\roaming\\python\\python39\\site-packages (from matplotlib->mediapipe) (2.8.2)\n",
      "Requirement already satisfied: packaging>=20.0 in c:\\users\\sahil bansal\\appdata\\local\\programs\\python\\python39\\lib\\site-packages (from matplotlib->mediapipe) (21.3)\n",
      "Requirement already satisfied: fonttools>=4.22.0 in c:\\users\\sahil bansal\\appdata\\local\\programs\\python\\python39\\lib\\site-packages (from matplotlib->mediapipe) (4.31.2)\n",
      "Requirement already satisfied: pillow>=6.2.0 in c:\\users\\sahil bansal\\appdata\\local\\programs\\python\\python39\\lib\\site-packages (from matplotlib->mediapipe) (9.0.1)\n",
      "Requirement already satisfied: cycler>=0.10 in c:\\users\\sahil bansal\\appdata\\local\\programs\\python\\python39\\lib\\site-packages (from matplotlib->mediapipe) (0.11.0)\n",
      "Requirement already satisfied: kiwisolver>=1.0.1 in c:\\users\\sahil bansal\\appdata\\local\\programs\\python\\python39\\lib\\site-packages (from matplotlib->mediapipe) (1.4.0)\n"
     ]
    }
   ],
   "source": [
    "pip install mediapipe"
   ]
  },
  {
   "cell_type": "code",
   "execution_count": null,
   "id": "050fc27d-82f8-4113-82b5-4f503d1fac16",
   "metadata": {},
   "outputs": [],
   "source": [
    "pip install tensorflow==2.5.1 tensorflow-gpu==2.5.1 opencv-python mediapipe sklearn matplotlib"
   ]
  },
  {
   "cell_type": "code",
   "execution_count": null,
   "id": "4887fd65-2084-4b84-a249-69fd8b18584a",
   "metadata": {},
   "outputs": [],
   "source": []
  }
 ],
 "metadata": {
  "kernelspec": {
   "display_name": "Python 3 (ipykernel)",
   "language": "python",
   "name": "python3"
  },
  "language_info": {
   "codemirror_mode": {
    "name": "ipython",
    "version": 3
   },
   "file_extension": ".py",
   "mimetype": "text/x-python",
   "name": "python",
   "nbconvert_exporter": "python",
   "pygments_lexer": "ipython3",
   "version": "3.9.6"
  }
 },
 "nbformat": 4,
 "nbformat_minor": 5
}
